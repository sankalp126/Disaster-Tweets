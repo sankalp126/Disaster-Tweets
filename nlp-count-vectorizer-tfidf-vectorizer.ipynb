{
 "cells": [
  {
   "cell_type": "code",
   "execution_count": 1,
   "id": "945bc51f",
   "metadata": {
    "_cell_guid": "b1076dfc-b9ad-4769-8c92-a6c4dae69d19",
    "_uuid": "8f2839f25d086af736a60e9eeb907d3b93b6e0e5",
    "execution": {
     "iopub.execute_input": "2022-02-18T05:07:53.284108Z",
     "iopub.status.busy": "2022-02-18T05:07:53.283426Z",
     "iopub.status.idle": "2022-02-18T05:07:53.293933Z",
     "shell.execute_reply": "2022-02-18T05:07:53.293071Z",
     "shell.execute_reply.started": "2022-02-18T03:50:01.668691Z"
    },
    "papermill": {
     "duration": 0.06372,
     "end_time": "2022-02-18T05:07:53.294122",
     "exception": false,
     "start_time": "2022-02-18T05:07:53.230402",
     "status": "completed"
    },
    "tags": []
   },
   "outputs": [
    {
     "name": "stdout",
     "output_type": "stream",
     "text": [
      "/kaggle/input/nlp-getting-started/sample_submission.csv\n",
      "/kaggle/input/nlp-getting-started/train.csv\n",
      "/kaggle/input/nlp-getting-started/test.csv\n"
     ]
    }
   ],
   "source": [
    "# This Python 3 environment comes with many helpful analytics libraries installed\n",
    "# It is defined by the kaggle/python Docker image: https://github.com/kaggle/docker-python\n",
    "# For example, here's several helpful packages to load\n",
    "\n",
    "import numpy as np # linear algebra\n",
    "import pandas as pd # data processing, CSV file I/O (e.g. pd.read_csv)\n",
    "\n",
    "# Input data files are available in the read-only \"../input/\" directory\n",
    "# For example, running this (by clicking run or pressing Shift+Enter) will list all files under the input directory\n",
    "\n",
    "import os\n",
    "for dirname, _, filenames in os.walk('/kaggle/input'):\n",
    "    for filename in filenames:\n",
    "        print(os.path.join(dirname, filename))\n",
    "\n",
    "# You can write up to 20GB to the current directory (/kaggle/working/) that gets preserved as output when you create a version using \"Save & Run All\" \n",
    "# You can also write temporary files to /kaggle/temp/, but they won't be saved outside of the current session"
   ]
  },
  {
   "cell_type": "markdown",
   "id": "0a830598",
   "metadata": {
    "papermill": {
     "duration": 0.042376,
     "end_time": "2022-02-18T05:07:53.378105",
     "exception": false,
     "start_time": "2022-02-18T05:07:53.335729",
     "status": "completed"
    },
    "tags": []
   },
   "source": [
    "# Import Libraries"
   ]
  },
  {
   "cell_type": "code",
   "execution_count": 2,
   "id": "b3b02589",
   "metadata": {
    "execution": {
     "iopub.execute_input": "2022-02-18T05:07:53.473223Z",
     "iopub.status.busy": "2022-02-18T05:07:53.472566Z",
     "iopub.status.idle": "2022-02-18T05:07:56.761288Z",
     "shell.execute_reply": "2022-02-18T05:07:56.760846Z",
     "shell.execute_reply.started": "2022-02-18T04:05:40.779399Z"
    },
    "papermill": {
     "duration": 3.340727,
     "end_time": "2022-02-18T05:07:56.761421",
     "exception": false,
     "start_time": "2022-02-18T05:07:53.420694",
     "status": "completed"
    },
    "tags": []
   },
   "outputs": [],
   "source": [
    "import seaborn as sns\n",
    "import matplotlib.pyplot as plt\n",
    "from sklearn.model_selection import train_test_split\n",
    "from sklearn.ensemble import RandomForestClassifier\n",
    "from sklearn.naive_bayes import MultinomialNB\n",
    "from sklearn.metrics import accuracy_score\n",
    "import nltk\n",
    "import nltk.corpus\n",
    "import re\n",
    "import string\n",
    "from nltk.corpus import stopwords\n",
    "import gensim"
   ]
  },
  {
   "cell_type": "markdown",
   "id": "f54298b5",
   "metadata": {
    "papermill": {
     "duration": 0.027247,
     "end_time": "2022-02-18T05:07:56.814614",
     "exception": false,
     "start_time": "2022-02-18T05:07:56.787367",
     "status": "completed"
    },
    "tags": []
   },
   "source": [
    "# Load Data"
   ]
  },
  {
   "cell_type": "code",
   "execution_count": 3,
   "id": "3dadc9cc",
   "metadata": {
    "execution": {
     "iopub.execute_input": "2022-02-18T05:07:56.874479Z",
     "iopub.status.busy": "2022-02-18T05:07:56.873831Z",
     "iopub.status.idle": "2022-02-18T05:07:56.971025Z",
     "shell.execute_reply": "2022-02-18T05:07:56.970430Z",
     "shell.execute_reply.started": "2022-02-18T05:02:06.823489Z"
    },
    "papermill": {
     "duration": 0.129795,
     "end_time": "2022-02-18T05:07:56.971150",
     "exception": false,
     "start_time": "2022-02-18T05:07:56.841355",
     "status": "completed"
    },
    "tags": []
   },
   "outputs": [],
   "source": [
    "train_data=pd.read_csv('/kaggle/input/nlp-getting-started/train.csv')\n",
    "test_data=pd.read_csv('/kaggle/input/nlp-getting-started/test.csv')\n",
    "submission=pd.read_csv('/kaggle/input/nlp-getting-started/sample_submission.csv')"
   ]
  },
  {
   "cell_type": "markdown",
   "id": "6ce7a9e3",
   "metadata": {
    "papermill": {
     "duration": 0.027736,
     "end_time": "2022-02-18T05:07:57.027154",
     "exception": false,
     "start_time": "2022-02-18T05:07:56.999418",
     "status": "completed"
    },
    "tags": []
   },
   "source": [
    "# Data preprocessing"
   ]
  },
  {
   "cell_type": "code",
   "execution_count": 4,
   "id": "aeefcf23",
   "metadata": {
    "execution": {
     "iopub.execute_input": "2022-02-18T05:07:57.103164Z",
     "iopub.status.busy": "2022-02-18T05:07:57.102614Z",
     "iopub.status.idle": "2022-02-18T05:07:57.125773Z",
     "shell.execute_reply": "2022-02-18T05:07:57.126203Z",
     "shell.execute_reply.started": "2022-02-18T03:50:03.555913Z"
    },
    "papermill": {
     "duration": 0.067169,
     "end_time": "2022-02-18T05:07:57.126381",
     "exception": false,
     "start_time": "2022-02-18T05:07:57.059212",
     "status": "completed"
    },
    "tags": []
   },
   "outputs": [
    {
     "data": {
      "text/html": [
       "<div>\n",
       "<style scoped>\n",
       "    .dataframe tbody tr th:only-of-type {\n",
       "        vertical-align: middle;\n",
       "    }\n",
       "\n",
       "    .dataframe tbody tr th {\n",
       "        vertical-align: top;\n",
       "    }\n",
       "\n",
       "    .dataframe thead th {\n",
       "        text-align: right;\n",
       "    }\n",
       "</style>\n",
       "<table border=\"1\" class=\"dataframe\">\n",
       "  <thead>\n",
       "    <tr style=\"text-align: right;\">\n",
       "      <th></th>\n",
       "      <th>id</th>\n",
       "      <th>keyword</th>\n",
       "      <th>location</th>\n",
       "      <th>text</th>\n",
       "      <th>target</th>\n",
       "    </tr>\n",
       "  </thead>\n",
       "  <tbody>\n",
       "    <tr>\n",
       "      <th>0</th>\n",
       "      <td>1</td>\n",
       "      <td>NaN</td>\n",
       "      <td>NaN</td>\n",
       "      <td>Our Deeds are the Reason of this #earthquake M...</td>\n",
       "      <td>1</td>\n",
       "    </tr>\n",
       "    <tr>\n",
       "      <th>1</th>\n",
       "      <td>4</td>\n",
       "      <td>NaN</td>\n",
       "      <td>NaN</td>\n",
       "      <td>Forest fire near La Ronge Sask. Canada</td>\n",
       "      <td>1</td>\n",
       "    </tr>\n",
       "    <tr>\n",
       "      <th>2</th>\n",
       "      <td>5</td>\n",
       "      <td>NaN</td>\n",
       "      <td>NaN</td>\n",
       "      <td>All residents asked to 'shelter in place' are ...</td>\n",
       "      <td>1</td>\n",
       "    </tr>\n",
       "    <tr>\n",
       "      <th>3</th>\n",
       "      <td>6</td>\n",
       "      <td>NaN</td>\n",
       "      <td>NaN</td>\n",
       "      <td>13,000 people receive #wildfires evacuation or...</td>\n",
       "      <td>1</td>\n",
       "    </tr>\n",
       "    <tr>\n",
       "      <th>4</th>\n",
       "      <td>7</td>\n",
       "      <td>NaN</td>\n",
       "      <td>NaN</td>\n",
       "      <td>Just got sent this photo from Ruby #Alaska as ...</td>\n",
       "      <td>1</td>\n",
       "    </tr>\n",
       "  </tbody>\n",
       "</table>\n",
       "</div>"
      ],
      "text/plain": [
       "   id keyword location                                               text  \\\n",
       "0   1     NaN      NaN  Our Deeds are the Reason of this #earthquake M...   \n",
       "1   4     NaN      NaN             Forest fire near La Ronge Sask. Canada   \n",
       "2   5     NaN      NaN  All residents asked to 'shelter in place' are ...   \n",
       "3   6     NaN      NaN  13,000 people receive #wildfires evacuation or...   \n",
       "4   7     NaN      NaN  Just got sent this photo from Ruby #Alaska as ...   \n",
       "\n",
       "   target  \n",
       "0       1  \n",
       "1       1  \n",
       "2       1  \n",
       "3       1  \n",
       "4       1  "
      ]
     },
     "execution_count": 4,
     "metadata": {},
     "output_type": "execute_result"
    }
   ],
   "source": [
    "train_data.head()"
   ]
  },
  {
   "cell_type": "code",
   "execution_count": 5,
   "id": "4d512940",
   "metadata": {
    "execution": {
     "iopub.execute_input": "2022-02-18T05:07:57.210166Z",
     "iopub.status.busy": "2022-02-18T05:07:57.209341Z",
     "iopub.status.idle": "2022-02-18T05:07:57.214756Z",
     "shell.execute_reply": "2022-02-18T05:07:57.214269Z",
     "shell.execute_reply.started": "2022-02-18T03:50:03.579015Z"
    },
    "papermill": {
     "duration": 0.059162,
     "end_time": "2022-02-18T05:07:57.214886",
     "exception": false,
     "start_time": "2022-02-18T05:07:57.155724",
     "status": "completed"
    },
    "tags": []
   },
   "outputs": [
    {
     "data": {
      "text/html": [
       "<div>\n",
       "<style scoped>\n",
       "    .dataframe tbody tr th:only-of-type {\n",
       "        vertical-align: middle;\n",
       "    }\n",
       "\n",
       "    .dataframe tbody tr th {\n",
       "        vertical-align: top;\n",
       "    }\n",
       "\n",
       "    .dataframe thead th {\n",
       "        text-align: right;\n",
       "    }\n",
       "</style>\n",
       "<table border=\"1\" class=\"dataframe\">\n",
       "  <thead>\n",
       "    <tr style=\"text-align: right;\">\n",
       "      <th></th>\n",
       "      <th>id</th>\n",
       "      <th>text</th>\n",
       "      <th>target</th>\n",
       "    </tr>\n",
       "  </thead>\n",
       "  <tbody>\n",
       "    <tr>\n",
       "      <th>0</th>\n",
       "      <td>1</td>\n",
       "      <td>Our Deeds are the Reason of this #earthquake M...</td>\n",
       "      <td>1</td>\n",
       "    </tr>\n",
       "    <tr>\n",
       "      <th>1</th>\n",
       "      <td>4</td>\n",
       "      <td>Forest fire near La Ronge Sask. Canada</td>\n",
       "      <td>1</td>\n",
       "    </tr>\n",
       "  </tbody>\n",
       "</table>\n",
       "</div>"
      ],
      "text/plain": [
       "   id                                               text  target\n",
       "0   1  Our Deeds are the Reason of this #earthquake M...       1\n",
       "1   4             Forest fire near La Ronge Sask. Canada       1"
      ]
     },
     "execution_count": 5,
     "metadata": {},
     "output_type": "execute_result"
    }
   ],
   "source": [
    "train_data=train_data.drop([\"keyword\",\"location\"],axis=1)\n",
    "test_data=test_data.drop([\"keyword\",\"location\"],axis=1)\n",
    "\n",
    "train_data.head(2)"
   ]
  },
  {
   "cell_type": "code",
   "execution_count": 6,
   "id": "45bbdf53",
   "metadata": {
    "execution": {
     "iopub.execute_input": "2022-02-18T05:07:57.277865Z",
     "iopub.status.busy": "2022-02-18T05:07:57.277223Z",
     "iopub.status.idle": "2022-02-18T05:07:57.280732Z",
     "shell.execute_reply": "2022-02-18T05:07:57.280238Z",
     "shell.execute_reply.started": "2022-02-18T03:50:03.597480Z"
    },
    "papermill": {
     "duration": 0.036869,
     "end_time": "2022-02-18T05:07:57.280850",
     "exception": false,
     "start_time": "2022-02-18T05:07:57.243981",
     "status": "completed"
    },
    "tags": []
   },
   "outputs": [
    {
     "data": {
      "text/plain": [
       "pandas.core.frame.DataFrame"
      ]
     },
     "execution_count": 6,
     "metadata": {},
     "output_type": "execute_result"
    }
   ],
   "source": [
    "type(train_data)"
   ]
  },
  {
   "cell_type": "code",
   "execution_count": 7,
   "id": "c20e8e1c",
   "metadata": {
    "execution": {
     "iopub.execute_input": "2022-02-18T05:07:57.346386Z",
     "iopub.status.busy": "2022-02-18T05:07:57.345796Z",
     "iopub.status.idle": "2022-02-18T05:07:57.349251Z",
     "shell.execute_reply": "2022-02-18T05:07:57.348757Z",
     "shell.execute_reply.started": "2022-02-18T03:50:03.607768Z"
    },
    "papermill": {
     "duration": 0.040105,
     "end_time": "2022-02-18T05:07:57.349411",
     "exception": false,
     "start_time": "2022-02-18T05:07:57.309306",
     "status": "completed"
    },
    "tags": []
   },
   "outputs": [],
   "source": [
    "total_data= pd.concat([train_data,test_data],axis=0,ignore_index=True)"
   ]
  },
  {
   "cell_type": "code",
   "execution_count": 8,
   "id": "f50d77be",
   "metadata": {
    "execution": {
     "iopub.execute_input": "2022-02-18T05:07:57.425410Z",
     "iopub.status.busy": "2022-02-18T05:07:57.424805Z",
     "iopub.status.idle": "2022-02-18T05:07:57.430335Z",
     "shell.execute_reply": "2022-02-18T05:07:57.429872Z",
     "shell.execute_reply.started": "2022-02-18T03:50:03.619632Z"
    },
    "papermill": {
     "duration": 0.05151,
     "end_time": "2022-02-18T05:07:57.430488",
     "exception": false,
     "start_time": "2022-02-18T05:07:57.378978",
     "status": "completed"
    },
    "tags": []
   },
   "outputs": [
    {
     "data": {
      "text/html": [
       "<div>\n",
       "<style scoped>\n",
       "    .dataframe tbody tr th:only-of-type {\n",
       "        vertical-align: middle;\n",
       "    }\n",
       "\n",
       "    .dataframe tbody tr th {\n",
       "        vertical-align: top;\n",
       "    }\n",
       "\n",
       "    .dataframe thead th {\n",
       "        text-align: right;\n",
       "    }\n",
       "</style>\n",
       "<table border=\"1\" class=\"dataframe\">\n",
       "  <thead>\n",
       "    <tr style=\"text-align: right;\">\n",
       "      <th></th>\n",
       "      <th>id</th>\n",
       "      <th>text</th>\n",
       "      <th>target</th>\n",
       "    </tr>\n",
       "  </thead>\n",
       "  <tbody>\n",
       "    <tr>\n",
       "      <th>0</th>\n",
       "      <td>1</td>\n",
       "      <td>Our Deeds are the Reason of this #earthquake M...</td>\n",
       "      <td>1.0</td>\n",
       "    </tr>\n",
       "    <tr>\n",
       "      <th>1</th>\n",
       "      <td>4</td>\n",
       "      <td>Forest fire near La Ronge Sask. Canada</td>\n",
       "      <td>1.0</td>\n",
       "    </tr>\n",
       "    <tr>\n",
       "      <th>2</th>\n",
       "      <td>5</td>\n",
       "      <td>All residents asked to 'shelter in place' are ...</td>\n",
       "      <td>1.0</td>\n",
       "    </tr>\n",
       "    <tr>\n",
       "      <th>3</th>\n",
       "      <td>6</td>\n",
       "      <td>13,000 people receive #wildfires evacuation or...</td>\n",
       "      <td>1.0</td>\n",
       "    </tr>\n",
       "    <tr>\n",
       "      <th>4</th>\n",
       "      <td>7</td>\n",
       "      <td>Just got sent this photo from Ruby #Alaska as ...</td>\n",
       "      <td>1.0</td>\n",
       "    </tr>\n",
       "    <tr>\n",
       "      <th>...</th>\n",
       "      <td>...</td>\n",
       "      <td>...</td>\n",
       "      <td>...</td>\n",
       "    </tr>\n",
       "    <tr>\n",
       "      <th>10871</th>\n",
       "      <td>10861</td>\n",
       "      <td>EARTHQUAKE SAFETY LOS ANGELES ÛÒ SAFETY FASTE...</td>\n",
       "      <td>NaN</td>\n",
       "    </tr>\n",
       "    <tr>\n",
       "      <th>10872</th>\n",
       "      <td>10865</td>\n",
       "      <td>Storm in RI worse than last hurricane. My city...</td>\n",
       "      <td>NaN</td>\n",
       "    </tr>\n",
       "    <tr>\n",
       "      <th>10873</th>\n",
       "      <td>10868</td>\n",
       "      <td>Green Line derailment in Chicago http://t.co/U...</td>\n",
       "      <td>NaN</td>\n",
       "    </tr>\n",
       "    <tr>\n",
       "      <th>10874</th>\n",
       "      <td>10874</td>\n",
       "      <td>MEG issues Hazardous Weather Outlook (HWO) htt...</td>\n",
       "      <td>NaN</td>\n",
       "    </tr>\n",
       "    <tr>\n",
       "      <th>10875</th>\n",
       "      <td>10875</td>\n",
       "      <td>#CityofCalgary has activated its Municipal Eme...</td>\n",
       "      <td>NaN</td>\n",
       "    </tr>\n",
       "  </tbody>\n",
       "</table>\n",
       "<p>10876 rows × 3 columns</p>\n",
       "</div>"
      ],
      "text/plain": [
       "          id                                               text  target\n",
       "0          1  Our Deeds are the Reason of this #earthquake M...     1.0\n",
       "1          4             Forest fire near La Ronge Sask. Canada     1.0\n",
       "2          5  All residents asked to 'shelter in place' are ...     1.0\n",
       "3          6  13,000 people receive #wildfires evacuation or...     1.0\n",
       "4          7  Just got sent this photo from Ruby #Alaska as ...     1.0\n",
       "...      ...                                                ...     ...\n",
       "10871  10861  EARTHQUAKE SAFETY LOS ANGELES ÛÒ SAFETY FASTE...     NaN\n",
       "10872  10865  Storm in RI worse than last hurricane. My city...     NaN\n",
       "10873  10868  Green Line derailment in Chicago http://t.co/U...     NaN\n",
       "10874  10874  MEG issues Hazardous Weather Outlook (HWO) htt...     NaN\n",
       "10875  10875  #CityofCalgary has activated its Municipal Eme...     NaN\n",
       "\n",
       "[10876 rows x 3 columns]"
      ]
     },
     "execution_count": 8,
     "metadata": {},
     "output_type": "execute_result"
    }
   ],
   "source": [
    "total_data"
   ]
  },
  {
   "cell_type": "code",
   "execution_count": 9,
   "id": "48f7d8a2",
   "metadata": {
    "execution": {
     "iopub.execute_input": "2022-02-18T05:07:57.496123Z",
     "iopub.status.busy": "2022-02-18T05:07:57.495568Z",
     "iopub.status.idle": "2022-02-18T05:07:57.499307Z",
     "shell.execute_reply": "2022-02-18T05:07:57.498804Z",
     "shell.execute_reply.started": "2022-02-18T03:51:12.309904Z"
    },
    "papermill": {
     "duration": 0.039503,
     "end_time": "2022-02-18T05:07:57.499442",
     "exception": false,
     "start_time": "2022-02-18T05:07:57.459939",
     "status": "completed"
    },
    "tags": []
   },
   "outputs": [],
   "source": [
    "# handel urls\n",
    "def remove_url(text):\n",
    "    url=re.compile(r'https?://S+|www\\.\\S+')\n",
    "    return url.sub(r'',text)\n",
    "def remove_html(text):\n",
    "    html = re.compile(r'<.*?>|&([a-z0-9]+|#[0-9]{1,6}|#x[0-9a-f]{1,6});')\n",
    "    return re.sub(html, '', text)"
   ]
  },
  {
   "cell_type": "code",
   "execution_count": 10,
   "id": "ac0bd619",
   "metadata": {
    "execution": {
     "iopub.execute_input": "2022-02-18T05:07:57.584316Z",
     "iopub.status.busy": "2022-02-18T05:07:57.573528Z",
     "iopub.status.idle": "2022-02-18T05:07:57.709745Z",
     "shell.execute_reply": "2022-02-18T05:07:57.710136Z",
     "shell.execute_reply.started": "2022-02-18T03:52:31.698926Z"
    },
    "papermill": {
     "duration": 0.180152,
     "end_time": "2022-02-18T05:07:57.710314",
     "exception": false,
     "start_time": "2022-02-18T05:07:57.530162",
     "status": "completed"
    },
    "tags": []
   },
   "outputs": [],
   "source": [
    "total_data['text']=total_data['text'].apply(lambda x:remove_url(x))\n",
    "total_data['text']=total_data['text'].apply(lambda x:remove_html(x))"
   ]
  },
  {
   "cell_type": "code",
   "execution_count": 11,
   "id": "0c874152",
   "metadata": {
    "execution": {
     "iopub.execute_input": "2022-02-18T05:07:57.809150Z",
     "iopub.status.busy": "2022-02-18T05:07:57.793424Z",
     "iopub.status.idle": "2022-02-18T05:07:57.887691Z",
     "shell.execute_reply": "2022-02-18T05:07:57.887221Z",
     "shell.execute_reply.started": "2022-02-18T03:53:09.199156Z"
    },
    "papermill": {
     "duration": 0.147865,
     "end_time": "2022-02-18T05:07:57.887816",
     "exception": false,
     "start_time": "2022-02-18T05:07:57.739951",
     "status": "completed"
    },
    "tags": []
   },
   "outputs": [],
   "source": [
    "# convert to lower alphabates\n",
    "for i in range(len(total_data)):\n",
    "    total_data['text'][i].lower()"
   ]
  },
  {
   "cell_type": "code",
   "execution_count": 12,
   "id": "7b064cbc",
   "metadata": {
    "execution": {
     "iopub.execute_input": "2022-02-18T05:07:57.952998Z",
     "iopub.status.busy": "2022-02-18T05:07:57.952452Z",
     "iopub.status.idle": "2022-02-18T05:07:57.969980Z",
     "shell.execute_reply": "2022-02-18T05:07:57.969514Z",
     "shell.execute_reply.started": "2022-02-18T03:54:39.749253Z"
    },
    "papermill": {
     "duration": 0.053089,
     "end_time": "2022-02-18T05:07:57.970126",
     "exception": false,
     "start_time": "2022-02-18T05:07:57.917037",
     "status": "completed"
    },
    "tags": []
   },
   "outputs": [
    {
     "name": "stdout",
     "output_type": "stream",
     "text": [
      "{\"doesn't\", \"you're\", 'm', 'nor', \"you've\", 'did', 'which', 'are', 'some', \"you'll\", 'as', \"wasn't\", 'those', 'that', 'not', 'against', 'from', 'more', 'don', 'hasn', \"it's\", 'i', 'a', 'here', 'only', 'than', 'having', 'who', 'such', 'they', \"she's\", 'to', 'be', \"didn't\", 'needn', 's', 'we', 'through', 'she', 't', 'shouldn', 'up', 'this', 'by', 'shan', 'should', 'any', 'yours', 'with', 'or', 'very', \"hadn't\", 'under', 'myself', 'were', 'about', 'him', 'of', 'no', 'will', 'out', 'further', \"shan't\", 'after', 'off', \"should've\", \"aren't\", 'own', 'll', 'on', 'other', 'before', 'all', 'is', 'y', \"shouldn't\", 'am', \"mustn't\", 'ours', 'wasn', 'mightn', 'do', 'itself', 'his', 'these', 'ourselves', 'below', 'yourselves', 'most', 'couldn', 'into', 'same', 'where', 'you', 'few', 'o', 'hadn', 'each', 'but', 'my', 'over', 'theirs', 'can', 'in', \"that'll\", 'has', 'during', 'between', 'ain', 'too', 'himself', 'was', 'been', 'd', \"wouldn't\", \"don't\", 'yourself', \"needn't\", \"you'd\", 'an', 'when', 'both', 'above', 'weren', 'now', 'again', 'he', 'their', 'me', 're', 'why', 'themselves', 'ma', 'isn', 'there', 'being', 'so', 'our', \"won't\", 'wouldn', \"haven't\", 've', 'mustn', 'herself', 'them', 'your', 'didn', 'it', 'haven', 'until', 'if', 'how', \"weren't\", 'its', 'doing', 'down', 'then', 'and', 'just', 'while', 'the', \"mightn't\", \"isn't\", \"hasn't\", 'have', 'whom', 'because', 'once', 'what', 'does', 'for', \"couldn't\", 'doesn', 'hers', 'won', 'aren', 'at', 'her', 'had'}\n"
     ]
    }
   ],
   "source": [
    "stop_words=set(stopwords.words(\"english\"))\n",
    "print(stop_words)"
   ]
  },
  {
   "cell_type": "code",
   "execution_count": 13,
   "id": "8e367a75",
   "metadata": {
    "execution": {
     "iopub.execute_input": "2022-02-18T05:07:58.043148Z",
     "iopub.status.busy": "2022-02-18T05:07:58.037509Z",
     "iopub.status.idle": "2022-02-18T05:07:58.570597Z",
     "shell.execute_reply": "2022-02-18T05:07:58.570036Z",
     "shell.execute_reply.started": "2022-02-18T04:06:57.069364Z"
    },
    "papermill": {
     "duration": 0.572323,
     "end_time": "2022-02-18T05:07:58.570715",
     "exception": false,
     "start_time": "2022-02-18T05:07:57.998392",
     "status": "completed"
    },
    "tags": []
   },
   "outputs": [],
   "source": [
    "#tokenize text\n",
    "total_data['tokenized_text']=total_data['text'].apply(gensim.utils.simple_preprocess)"
   ]
  },
  {
   "cell_type": "code",
   "execution_count": 14,
   "id": "98cd492b",
   "metadata": {
    "execution": {
     "iopub.execute_input": "2022-02-18T05:07:58.643721Z",
     "iopub.status.busy": "2022-02-18T05:07:58.643176Z",
     "iopub.status.idle": "2022-02-18T05:07:58.647419Z",
     "shell.execute_reply": "2022-02-18T05:07:58.646891Z",
     "shell.execute_reply.started": "2022-02-18T04:07:12.399339Z"
    },
    "papermill": {
     "duration": 0.04727,
     "end_time": "2022-02-18T05:07:58.647563",
     "exception": false,
     "start_time": "2022-02-18T05:07:58.600293",
     "status": "completed"
    },
    "tags": []
   },
   "outputs": [
    {
     "data": {
      "text/html": [
       "<div>\n",
       "<style scoped>\n",
       "    .dataframe tbody tr th:only-of-type {\n",
       "        vertical-align: middle;\n",
       "    }\n",
       "\n",
       "    .dataframe tbody tr th {\n",
       "        vertical-align: top;\n",
       "    }\n",
       "\n",
       "    .dataframe thead th {\n",
       "        text-align: right;\n",
       "    }\n",
       "</style>\n",
       "<table border=\"1\" class=\"dataframe\">\n",
       "  <thead>\n",
       "    <tr style=\"text-align: right;\">\n",
       "      <th></th>\n",
       "      <th>id</th>\n",
       "      <th>text</th>\n",
       "      <th>target</th>\n",
       "      <th>tokenized_text</th>\n",
       "    </tr>\n",
       "  </thead>\n",
       "  <tbody>\n",
       "    <tr>\n",
       "      <th>0</th>\n",
       "      <td>1</td>\n",
       "      <td>Our Deeds are the Reason of this #earthquake M...</td>\n",
       "      <td>1.0</td>\n",
       "      <td>[our, deeds, are, the, reason, of, this, earth...</td>\n",
       "    </tr>\n",
       "    <tr>\n",
       "      <th>1</th>\n",
       "      <td>4</td>\n",
       "      <td>Forest fire near La Ronge Sask. Canada</td>\n",
       "      <td>1.0</td>\n",
       "      <td>[forest, fire, near, la, ronge, sask, canada]</td>\n",
       "    </tr>\n",
       "    <tr>\n",
       "      <th>2</th>\n",
       "      <td>5</td>\n",
       "      <td>All residents asked to 'shelter in place' are ...</td>\n",
       "      <td>1.0</td>\n",
       "      <td>[all, residents, asked, to, shelter, in, place...</td>\n",
       "    </tr>\n",
       "    <tr>\n",
       "      <th>3</th>\n",
       "      <td>6</td>\n",
       "      <td>13,000 people receive #wildfires evacuation or...</td>\n",
       "      <td>1.0</td>\n",
       "      <td>[people, receive, wildfires, evacuation, order...</td>\n",
       "    </tr>\n",
       "    <tr>\n",
       "      <th>4</th>\n",
       "      <td>7</td>\n",
       "      <td>Just got sent this photo from Ruby #Alaska as ...</td>\n",
       "      <td>1.0</td>\n",
       "      <td>[just, got, sent, this, photo, from, ruby, ala...</td>\n",
       "    </tr>\n",
       "  </tbody>\n",
       "</table>\n",
       "</div>"
      ],
      "text/plain": [
       "   id                                               text  target  \\\n",
       "0   1  Our Deeds are the Reason of this #earthquake M...     1.0   \n",
       "1   4             Forest fire near La Ronge Sask. Canada     1.0   \n",
       "2   5  All residents asked to 'shelter in place' are ...     1.0   \n",
       "3   6  13,000 people receive #wildfires evacuation or...     1.0   \n",
       "4   7  Just got sent this photo from Ruby #Alaska as ...     1.0   \n",
       "\n",
       "                                      tokenized_text  \n",
       "0  [our, deeds, are, the, reason, of, this, earth...  \n",
       "1      [forest, fire, near, la, ronge, sask, canada]  \n",
       "2  [all, residents, asked, to, shelter, in, place...  \n",
       "3  [people, receive, wildfires, evacuation, order...  \n",
       "4  [just, got, sent, this, photo, from, ruby, ala...  "
      ]
     },
     "execution_count": 14,
     "metadata": {},
     "output_type": "execute_result"
    }
   ],
   "source": [
    "total_data.head()"
   ]
  },
  {
   "cell_type": "code",
   "execution_count": 15,
   "id": "cf2413b8",
   "metadata": {
    "execution": {
     "iopub.execute_input": "2022-02-18T05:07:58.710853Z",
     "iopub.status.busy": "2022-02-18T05:07:58.710266Z",
     "iopub.status.idle": "2022-02-18T05:07:58.713835Z",
     "shell.execute_reply": "2022-02-18T05:07:58.713321Z",
     "shell.execute_reply.started": "2022-02-18T04:18:42.941141Z"
    },
    "papermill": {
     "duration": 0.036938,
     "end_time": "2022-02-18T05:07:58.713958",
     "exception": false,
     "start_time": "2022-02-18T05:07:58.677020",
     "status": "completed"
    },
    "tags": []
   },
   "outputs": [],
   "source": [
    "# remove stopwords\n",
    "def remove_stopwords(s):\n",
    "    cleantext=[]\n",
    "    for i in range(len(s)): \n",
    "        if(s[i] not in stop_words):\n",
    "                cleantext.append(s[i])\n",
    "    return cleantext\n"
   ]
  },
  {
   "cell_type": "code",
   "execution_count": 16,
   "id": "c5cbe6a0",
   "metadata": {
    "execution": {
     "iopub.execute_input": "2022-02-18T05:07:58.781031Z",
     "iopub.status.busy": "2022-02-18T05:07:58.780503Z",
     "iopub.status.idle": "2022-02-18T05:07:58.874145Z",
     "shell.execute_reply": "2022-02-18T05:07:58.873744Z",
     "shell.execute_reply.started": "2022-02-18T04:18:43.171761Z"
    },
    "papermill": {
     "duration": 0.131483,
     "end_time": "2022-02-18T05:07:58.874263",
     "exception": false,
     "start_time": "2022-02-18T05:07:58.742780",
     "status": "completed"
    },
    "tags": []
   },
   "outputs": [
    {
     "data": {
      "text/html": [
       "<div>\n",
       "<style scoped>\n",
       "    .dataframe tbody tr th:only-of-type {\n",
       "        vertical-align: middle;\n",
       "    }\n",
       "\n",
       "    .dataframe tbody tr th {\n",
       "        vertical-align: top;\n",
       "    }\n",
       "\n",
       "    .dataframe thead th {\n",
       "        text-align: right;\n",
       "    }\n",
       "</style>\n",
       "<table border=\"1\" class=\"dataframe\">\n",
       "  <thead>\n",
       "    <tr style=\"text-align: right;\">\n",
       "      <th></th>\n",
       "      <th>id</th>\n",
       "      <th>text</th>\n",
       "      <th>target</th>\n",
       "      <th>tokenized_text</th>\n",
       "      <th>clean_tok_text</th>\n",
       "    </tr>\n",
       "  </thead>\n",
       "  <tbody>\n",
       "    <tr>\n",
       "      <th>0</th>\n",
       "      <td>1</td>\n",
       "      <td>Our Deeds are the Reason of this #earthquake M...</td>\n",
       "      <td>1.0</td>\n",
       "      <td>[our, deeds, are, the, reason, of, this, earth...</td>\n",
       "      <td>[deeds, reason, earthquake, may, allah, forgiv...</td>\n",
       "    </tr>\n",
       "    <tr>\n",
       "      <th>1</th>\n",
       "      <td>4</td>\n",
       "      <td>Forest fire near La Ronge Sask. Canada</td>\n",
       "      <td>1.0</td>\n",
       "      <td>[forest, fire, near, la, ronge, sask, canada]</td>\n",
       "      <td>[forest, fire, near, la, ronge, sask, canada]</td>\n",
       "    </tr>\n",
       "    <tr>\n",
       "      <th>2</th>\n",
       "      <td>5</td>\n",
       "      <td>All residents asked to 'shelter in place' are ...</td>\n",
       "      <td>1.0</td>\n",
       "      <td>[all, residents, asked, to, shelter, in, place...</td>\n",
       "      <td>[residents, asked, shelter, place, notified, o...</td>\n",
       "    </tr>\n",
       "    <tr>\n",
       "      <th>3</th>\n",
       "      <td>6</td>\n",
       "      <td>13,000 people receive #wildfires evacuation or...</td>\n",
       "      <td>1.0</td>\n",
       "      <td>[people, receive, wildfires, evacuation, order...</td>\n",
       "      <td>[people, receive, wildfires, evacuation, order...</td>\n",
       "    </tr>\n",
       "    <tr>\n",
       "      <th>4</th>\n",
       "      <td>7</td>\n",
       "      <td>Just got sent this photo from Ruby #Alaska as ...</td>\n",
       "      <td>1.0</td>\n",
       "      <td>[just, got, sent, this, photo, from, ruby, ala...</td>\n",
       "      <td>[got, sent, photo, ruby, alaska, smoke, wildfi...</td>\n",
       "    </tr>\n",
       "  </tbody>\n",
       "</table>\n",
       "</div>"
      ],
      "text/plain": [
       "   id                                               text  target  \\\n",
       "0   1  Our Deeds are the Reason of this #earthquake M...     1.0   \n",
       "1   4             Forest fire near La Ronge Sask. Canada     1.0   \n",
       "2   5  All residents asked to 'shelter in place' are ...     1.0   \n",
       "3   6  13,000 people receive #wildfires evacuation or...     1.0   \n",
       "4   7  Just got sent this photo from Ruby #Alaska as ...     1.0   \n",
       "\n",
       "                                      tokenized_text  \\\n",
       "0  [our, deeds, are, the, reason, of, this, earth...   \n",
       "1      [forest, fire, near, la, ronge, sask, canada]   \n",
       "2  [all, residents, asked, to, shelter, in, place...   \n",
       "3  [people, receive, wildfires, evacuation, order...   \n",
       "4  [just, got, sent, this, photo, from, ruby, ala...   \n",
       "\n",
       "                                      clean_tok_text  \n",
       "0  [deeds, reason, earthquake, may, allah, forgiv...  \n",
       "1      [forest, fire, near, la, ronge, sask, canada]  \n",
       "2  [residents, asked, shelter, place, notified, o...  \n",
       "3  [people, receive, wildfires, evacuation, order...  \n",
       "4  [got, sent, photo, ruby, alaska, smoke, wildfi...  "
      ]
     },
     "execution_count": 16,
     "metadata": {},
     "output_type": "execute_result"
    }
   ],
   "source": [
    "total_data['clean_tok_text']=total_data['tokenized_text'].apply(lambda x:remove_stopwords(x))\n",
    "total_data.head()"
   ]
  },
  {
   "cell_type": "code",
   "execution_count": 17,
   "id": "515b9afe",
   "metadata": {
    "execution": {
     "iopub.execute_input": "2022-02-18T05:07:58.939049Z",
     "iopub.status.busy": "2022-02-18T05:07:58.938308Z",
     "iopub.status.idle": "2022-02-18T05:07:58.942629Z",
     "shell.execute_reply": "2022-02-18T05:07:58.942168Z",
     "shell.execute_reply.started": "2022-02-18T04:19:09.871523Z"
    },
    "papermill": {
     "duration": 0.038251,
     "end_time": "2022-02-18T05:07:58.942742",
     "exception": false,
     "start_time": "2022-02-18T05:07:58.904491",
     "status": "completed"
    },
    "tags": []
   },
   "outputs": [
    {
     "data": {
      "text/plain": [
       "(10876, 5)"
      ]
     },
     "execution_count": 17,
     "metadata": {},
     "output_type": "execute_result"
    }
   ],
   "source": [
    "total_data.shape"
   ]
  },
  {
   "cell_type": "code",
   "execution_count": 18,
   "id": "a8d5ceac",
   "metadata": {
    "execution": {
     "iopub.execute_input": "2022-02-18T05:07:59.005872Z",
     "iopub.status.busy": "2022-02-18T05:07:59.005267Z",
     "iopub.status.idle": "2022-02-18T05:07:59.036385Z",
     "shell.execute_reply": "2022-02-18T05:07:59.036819Z",
     "shell.execute_reply.started": "2022-02-18T04:22:06.879711Z"
    },
    "papermill": {
     "duration": 0.06386,
     "end_time": "2022-02-18T05:07:59.037005",
     "exception": false,
     "start_time": "2022-02-18T05:07:58.973145",
     "status": "completed"
    },
    "tags": []
   },
   "outputs": [
    {
     "data": {
      "text/html": [
       "<div>\n",
       "<style scoped>\n",
       "    .dataframe tbody tr th:only-of-type {\n",
       "        vertical-align: middle;\n",
       "    }\n",
       "\n",
       "    .dataframe tbody tr th {\n",
       "        vertical-align: top;\n",
       "    }\n",
       "\n",
       "    .dataframe thead th {\n",
       "        text-align: right;\n",
       "    }\n",
       "</style>\n",
       "<table border=\"1\" class=\"dataframe\">\n",
       "  <thead>\n",
       "    <tr style=\"text-align: right;\">\n",
       "      <th></th>\n",
       "      <th>id</th>\n",
       "      <th>text</th>\n",
       "      <th>target</th>\n",
       "      <th>tokenized_text</th>\n",
       "      <th>clean_tok_text</th>\n",
       "      <th>final_text</th>\n",
       "    </tr>\n",
       "  </thead>\n",
       "  <tbody>\n",
       "    <tr>\n",
       "      <th>0</th>\n",
       "      <td>1</td>\n",
       "      <td>Our Deeds are the Reason of this #earthquake M...</td>\n",
       "      <td>1.0</td>\n",
       "      <td>[our, deeds, are, the, reason, of, this, earth...</td>\n",
       "      <td>[deeds, reason, earthquake, may, allah, forgiv...</td>\n",
       "      <td>deeds reason earthquake may allah forgive us</td>\n",
       "    </tr>\n",
       "    <tr>\n",
       "      <th>1</th>\n",
       "      <td>4</td>\n",
       "      <td>Forest fire near La Ronge Sask. Canada</td>\n",
       "      <td>1.0</td>\n",
       "      <td>[forest, fire, near, la, ronge, sask, canada]</td>\n",
       "      <td>[forest, fire, near, la, ronge, sask, canada]</td>\n",
       "      <td>forest fire near la ronge sask canada</td>\n",
       "    </tr>\n",
       "    <tr>\n",
       "      <th>2</th>\n",
       "      <td>5</td>\n",
       "      <td>All residents asked to 'shelter in place' are ...</td>\n",
       "      <td>1.0</td>\n",
       "      <td>[all, residents, asked, to, shelter, in, place...</td>\n",
       "      <td>[residents, asked, shelter, place, notified, o...</td>\n",
       "      <td>residents asked shelter place notified officer...</td>\n",
       "    </tr>\n",
       "    <tr>\n",
       "      <th>3</th>\n",
       "      <td>6</td>\n",
       "      <td>13,000 people receive #wildfires evacuation or...</td>\n",
       "      <td>1.0</td>\n",
       "      <td>[people, receive, wildfires, evacuation, order...</td>\n",
       "      <td>[people, receive, wildfires, evacuation, order...</td>\n",
       "      <td>people receive wildfires evacuation orders cal...</td>\n",
       "    </tr>\n",
       "    <tr>\n",
       "      <th>4</th>\n",
       "      <td>7</td>\n",
       "      <td>Just got sent this photo from Ruby #Alaska as ...</td>\n",
       "      <td>1.0</td>\n",
       "      <td>[just, got, sent, this, photo, from, ruby, ala...</td>\n",
       "      <td>[got, sent, photo, ruby, alaska, smoke, wildfi...</td>\n",
       "      <td>got sent photo ruby alaska smoke wildfires pou...</td>\n",
       "    </tr>\n",
       "  </tbody>\n",
       "</table>\n",
       "</div>"
      ],
      "text/plain": [
       "   id                                               text  target  \\\n",
       "0   1  Our Deeds are the Reason of this #earthquake M...     1.0   \n",
       "1   4             Forest fire near La Ronge Sask. Canada     1.0   \n",
       "2   5  All residents asked to 'shelter in place' are ...     1.0   \n",
       "3   6  13,000 people receive #wildfires evacuation or...     1.0   \n",
       "4   7  Just got sent this photo from Ruby #Alaska as ...     1.0   \n",
       "\n",
       "                                      tokenized_text  \\\n",
       "0  [our, deeds, are, the, reason, of, this, earth...   \n",
       "1      [forest, fire, near, la, ronge, sask, canada]   \n",
       "2  [all, residents, asked, to, shelter, in, place...   \n",
       "3  [people, receive, wildfires, evacuation, order...   \n",
       "4  [just, got, sent, this, photo, from, ruby, ala...   \n",
       "\n",
       "                                      clean_tok_text  \\\n",
       "0  [deeds, reason, earthquake, may, allah, forgiv...   \n",
       "1      [forest, fire, near, la, ronge, sask, canada]   \n",
       "2  [residents, asked, shelter, place, notified, o...   \n",
       "3  [people, receive, wildfires, evacuation, order...   \n",
       "4  [got, sent, photo, ruby, alaska, smoke, wildfi...   \n",
       "\n",
       "                                          final_text  \n",
       "0       deeds reason earthquake may allah forgive us  \n",
       "1              forest fire near la ronge sask canada  \n",
       "2  residents asked shelter place notified officer...  \n",
       "3  people receive wildfires evacuation orders cal...  \n",
       "4  got sent photo ruby alaska smoke wildfires pou...  "
      ]
     },
     "execution_count": 18,
     "metadata": {},
     "output_type": "execute_result"
    }
   ],
   "source": [
    "# join clean tokenized text\n",
    "def join_fun(text):\n",
    "    string=\" \"\n",
    "    ans=string.join(text)\n",
    "    return ans\n",
    "total_data['final_text']=total_data['clean_tok_text'].apply(lambda x:join_fun(x))\n",
    "total_data.head()"
   ]
  },
  {
   "cell_type": "markdown",
   "id": "a3c29141",
   "metadata": {
    "papermill": {
     "duration": 0.029749,
     "end_time": "2022-02-18T05:07:59.096736",
     "exception": false,
     "start_time": "2022-02-18T05:07:59.066987",
     "status": "completed"
    },
    "tags": []
   },
   "source": [
    "# Predictions using Count Vectorizer"
   ]
  },
  {
   "cell_type": "code",
   "execution_count": 19,
   "id": "1026d9f1",
   "metadata": {
    "execution": {
     "iopub.execute_input": "2022-02-18T05:07:59.171037Z",
     "iopub.status.busy": "2022-02-18T05:07:59.170250Z",
     "iopub.status.idle": "2022-02-18T05:07:59.528142Z",
     "shell.execute_reply": "2022-02-18T05:07:59.528583Z",
     "shell.execute_reply.started": "2022-02-18T04:22:58.041191Z"
    },
    "papermill": {
     "duration": 0.399707,
     "end_time": "2022-02-18T05:07:59.528741",
     "exception": false,
     "start_time": "2022-02-18T05:07:59.129034",
     "status": "completed"
    },
    "tags": []
   },
   "outputs": [],
   "source": [
    "from sklearn.feature_extraction.text import CountVectorizer\n",
    "cv=CountVectorizer()\n",
    "\n",
    "vec=cv.fit_transform(total_data[\"final_text\"])"
   ]
  },
  {
   "cell_type": "code",
   "execution_count": 20,
   "id": "a70cf6a2",
   "metadata": {
    "execution": {
     "iopub.execute_input": "2022-02-18T05:07:59.595289Z",
     "iopub.status.busy": "2022-02-18T05:07:59.594740Z",
     "iopub.status.idle": "2022-02-18T05:07:59.599885Z",
     "shell.execute_reply": "2022-02-18T05:07:59.599280Z",
     "shell.execute_reply.started": "2022-02-18T04:24:14.320405Z"
    },
    "papermill": {
     "duration": 0.040916,
     "end_time": "2022-02-18T05:07:59.600013",
     "exception": false,
     "start_time": "2022-02-18T05:07:59.559097",
     "status": "completed"
    },
    "tags": []
   },
   "outputs": [
    {
     "name": "stdout",
     "output_type": "stream",
     "text": [
      "(10876, 6) (10876, 28319)\n"
     ]
    }
   ],
   "source": [
    "print(total_data.shape,vec.shape)"
   ]
  },
  {
   "cell_type": "code",
   "execution_count": 21,
   "id": "25a52c25",
   "metadata": {
    "execution": {
     "iopub.execute_input": "2022-02-18T05:07:59.668338Z",
     "iopub.status.busy": "2022-02-18T05:07:59.665943Z",
     "iopub.status.idle": "2022-02-18T05:07:59.676793Z",
     "shell.execute_reply": "2022-02-18T05:07:59.676320Z",
     "shell.execute_reply.started": "2022-02-18T04:41:56.488679Z"
    },
    "papermill": {
     "duration": 0.045277,
     "end_time": "2022-02-18T05:07:59.676923",
     "exception": false,
     "start_time": "2022-02-18T05:07:59.631646",
     "status": "completed"
    },
    "tags": []
   },
   "outputs": [],
   "source": [
    "X=vec[:len(train_data)]\n",
    "y=train_data.target\n",
    "X_train,X_test,y_train,y_test=train_test_split(X,y,train_size=0.90)"
   ]
  },
  {
   "cell_type": "code",
   "execution_count": 22,
   "id": "5eb244e4",
   "metadata": {
    "execution": {
     "iopub.execute_input": "2022-02-18T05:07:59.742632Z",
     "iopub.status.busy": "2022-02-18T05:07:59.741951Z",
     "iopub.status.idle": "2022-02-18T05:08:23.374690Z",
     "shell.execute_reply": "2022-02-18T05:08:23.375169Z",
     "shell.execute_reply.started": "2022-02-18T04:41:56.762470Z"
    },
    "papermill": {
     "duration": 23.667282,
     "end_time": "2022-02-18T05:08:23.375310",
     "exception": false,
     "start_time": "2022-02-18T05:07:59.708028",
     "status": "completed"
    },
    "tags": []
   },
   "outputs": [
    {
     "data": {
      "text/plain": [
       "0.7795275590551181"
      ]
     },
     "execution_count": 22,
     "metadata": {},
     "output_type": "execute_result"
    }
   ],
   "source": [
    "model=RandomForestClassifier(n_estimators=65)\n",
    "model.fit(X_train,y_train)\n",
    "pred=model.predict(X_test)\n",
    "accuracy_score(pred,y_test)"
   ]
  },
  {
   "cell_type": "markdown",
   "id": "6ea3c442",
   "metadata": {
    "papermill": {
     "duration": 0.03114,
     "end_time": "2022-02-18T05:08:23.437354",
     "exception": false,
     "start_time": "2022-02-18T05:08:23.406214",
     "status": "completed"
    },
    "tags": []
   },
   "source": [
    "# Using TfIdf Vectorizer\n",
    "TF-IDF is better than Count Vectorizers because it not only focuses on the frequency of words present in the corpus but also provides the importance of the words. We can then remove the words that are less important for analysis, hence making the model building less complex by reducing the input dimensions.\n"
   ]
  },
  {
   "cell_type": "code",
   "execution_count": 23,
   "id": "24674c87",
   "metadata": {
    "execution": {
     "iopub.execute_input": "2022-02-18T05:08:23.520578Z",
     "iopub.status.busy": "2022-02-18T05:08:23.503758Z",
     "iopub.status.idle": "2022-02-18T05:08:23.869165Z",
     "shell.execute_reply": "2022-02-18T05:08:23.869741Z",
     "shell.execute_reply.started": "2022-02-18T05:01:03.997944Z"
    },
    "papermill": {
     "duration": 0.401373,
     "end_time": "2022-02-18T05:08:23.869931",
     "exception": false,
     "start_time": "2022-02-18T05:08:23.468558",
     "status": "completed"
    },
    "tags": []
   },
   "outputs": [],
   "source": [
    "from sklearn.feature_extraction.text import TfidfVectorizer\n",
    "tfidfvec=TfidfVectorizer()\n",
    "\n",
    "vec1=tfidfvec.fit_transform(total_data[\"final_text\"])"
   ]
  },
  {
   "cell_type": "code",
   "execution_count": 24,
   "id": "66c04ada",
   "metadata": {
    "execution": {
     "iopub.execute_input": "2022-02-18T05:08:23.970872Z",
     "iopub.status.busy": "2022-02-18T05:08:23.969914Z",
     "iopub.status.idle": "2022-02-18T05:08:23.979237Z",
     "shell.execute_reply": "2022-02-18T05:08:23.979839Z",
     "shell.execute_reply.started": "2022-02-18T05:01:05.297428Z"
    },
    "papermill": {
     "duration": 0.060951,
     "end_time": "2022-02-18T05:08:23.980023",
     "exception": false,
     "start_time": "2022-02-18T05:08:23.919072",
     "status": "completed"
    },
    "tags": []
   },
   "outputs": [],
   "source": [
    "X=vec1[:len(train_data)]\n",
    "y=train_data.target\n",
    "X_train,X_test,y_train,y_test=train_test_split(X,y,train_size=0.90)"
   ]
  },
  {
   "cell_type": "code",
   "execution_count": 25,
   "id": "c8a6bbc8",
   "metadata": {
    "execution": {
     "iopub.execute_input": "2022-02-18T05:08:24.083321Z",
     "iopub.status.busy": "2022-02-18T05:08:24.082336Z",
     "iopub.status.idle": "2022-02-18T05:08:45.996072Z",
     "shell.execute_reply": "2022-02-18T05:08:45.995382Z",
     "shell.execute_reply.started": "2022-02-18T05:01:06.298351Z"
    },
    "papermill": {
     "duration": 21.967229,
     "end_time": "2022-02-18T05:08:45.996214",
     "exception": false,
     "start_time": "2022-02-18T05:08:24.028985",
     "status": "completed"
    },
    "tags": []
   },
   "outputs": [
    {
     "data": {
      "text/plain": [
       "0.8018372703412073"
      ]
     },
     "execution_count": 25,
     "metadata": {},
     "output_type": "execute_result"
    }
   ],
   "source": [
    "model=RandomForestClassifier(n_estimators=65)\n",
    "model.fit(X_train,y_train)\n",
    "pred=model.predict(X_test)\n",
    "accuracy_score(pred,y_test)\n"
   ]
  },
  {
   "cell_type": "code",
   "execution_count": 26,
   "id": "f1a76955",
   "metadata": {
    "execution": {
     "iopub.execute_input": "2022-02-18T05:08:46.098370Z",
     "iopub.status.busy": "2022-02-18T05:08:46.097497Z",
     "iopub.status.idle": "2022-02-18T05:08:46.103811Z",
     "shell.execute_reply": "2022-02-18T05:08:46.103134Z",
     "shell.execute_reply.started": "2022-02-18T05:02:50.193063Z"
    },
    "papermill": {
     "duration": 0.059549,
     "end_time": "2022-02-18T05:08:46.103951",
     "exception": false,
     "start_time": "2022-02-18T05:08:46.044402",
     "status": "completed"
    },
    "tags": []
   },
   "outputs": [
    {
     "data": {
      "text/plain": [
       "<3263x28319 sparse matrix of type '<class 'numpy.int64'>'\n",
       "\twith 35775 stored elements in Compressed Sparse Row format>"
      ]
     },
     "execution_count": 26,
     "metadata": {},
     "output_type": "execute_result"
    }
   ],
   "source": [
    "test_vac=vec[len(train_data):]\n",
    "test_vac"
   ]
  },
  {
   "cell_type": "code",
   "execution_count": 27,
   "id": "cba169b5",
   "metadata": {
    "execution": {
     "iopub.execute_input": "2022-02-18T05:08:46.208935Z",
     "iopub.status.busy": "2022-02-18T05:08:46.208114Z",
     "iopub.status.idle": "2022-02-18T05:08:46.419714Z",
     "shell.execute_reply": "2022-02-18T05:08:46.419013Z",
     "shell.execute_reply.started": "2022-02-18T05:06:59.008428Z"
    },
    "papermill": {
     "duration": 0.264863,
     "end_time": "2022-02-18T05:08:46.419896",
     "exception": false,
     "start_time": "2022-02-18T05:08:46.155033",
     "status": "completed"
    },
    "tags": []
   },
   "outputs": [],
   "source": [
    "predictios=model.predict(test_vac)\n",
    "dataframe=pd.DataFrame(predictios,columns=[\"target\"])\n",
    "submission['target']=dataframe\n",
    "submission.to_csv('submission.csv',index=False)"
   ]
  },
  {
   "cell_type": "code",
   "execution_count": null,
   "id": "6b3bba56",
   "metadata": {
    "papermill": {
     "duration": 0.046485,
     "end_time": "2022-02-18T05:08:46.514071",
     "exception": false,
     "start_time": "2022-02-18T05:08:46.467586",
     "status": "completed"
    },
    "tags": []
   },
   "outputs": [],
   "source": []
  }
 ],
 "metadata": {
  "kernelspec": {
   "display_name": "Python 3",
   "language": "python",
   "name": "python3"
  },
  "language_info": {
   "codemirror_mode": {
    "name": "ipython",
    "version": 3
   },
   "file_extension": ".py",
   "mimetype": "text/x-python",
   "name": "python",
   "nbconvert_exporter": "python",
   "pygments_lexer": "ipython3",
   "version": "3.7.12"
  },
  "papermill": {
   "default_parameters": {},
   "duration": 67.930988,
   "end_time": "2022-02-18T05:08:47.574912",
   "environment_variables": {},
   "exception": null,
   "input_path": "__notebook__.ipynb",
   "output_path": "__notebook__.ipynb",
   "parameters": {},
   "start_time": "2022-02-18T05:07:39.643924",
   "version": "2.3.3"
  }
 },
 "nbformat": 4,
 "nbformat_minor": 5
}
